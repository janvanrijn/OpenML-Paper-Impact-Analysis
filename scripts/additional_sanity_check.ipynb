{
 "cells": [
  {
   "cell_type": "code",
   "execution_count": null,
   "metadata": {},
   "outputs": [],
   "source": [
    "import csv\n",
    "import pandas as pd"
   ]
  },
  {
   "cell_type": "code",
   "execution_count": null,
   "metadata": {},
   "outputs": [],
   "source": [
    "collected_papers = pd.read_csv(\"../data/collected_papers.csv\")\n",
    "survey_result = pd.read_csv(\"../data/Final_survey_data.csv\")"
   ]
  },
  {
   "cell_type": "markdown",
   "metadata": {},
   "source": [
    "1. Missing Entries"
   ]
  },
  {
   "cell_type": "code",
   "execution_count": null,
   "metadata": {},
   "outputs": [],
   "source": [
    "missing_paper_ids = collected_papers[~collected_papers[\"Paper ID\"].isin(survey_result[\"Paper ID (from shared sheet)\"])]"
   ]
  },
  {
   "cell_type": "code",
   "execution_count": null,
   "metadata": {},
   "outputs": [],
   "source": [
    "# missing paper IDs (no submission against that paper. Could be missed, or no access). Confirm with authors. \n",
    "# The new addition of papers (id>=1721) need not to be checked. \n",
    "list(missing_paper_ids[\"Paper ID\"])\n",
    "missing_paper_ids_ = []\n",
    "for id in missing_paper_ids[\"Paper ID\"]:\n",
    "    if id<1721:\n",
    "        missing_paper_ids_.append(id)\n",
    "        \n",
    "len( missing_paper_ids_)"
   ]
  },
  {
   "cell_type": "code",
   "execution_count": null,
   "metadata": {},
   "outputs": [],
   "source": [
    "# Different method for finding missing paper IDs. \n",
    "\n",
    "survey_ids = list(survey_result[\"Paper ID (from shared sheet)\"])\n",
    "no_response = []\n",
    "for paper_id in collected_papers[\"Paper ID\"]:\n",
    "    if (paper_id not in survey_ids):\n",
    "        if paper_id < 1721:\n",
    "            no_response.append(paper_id)\n",
    "\n",
    "len(no_response)"
   ]
  },
  {
   "cell_type": "code",
   "execution_count": null,
   "metadata": {},
   "outputs": [],
   "source": [
    "# sanity check \n",
    "\n",
    "missing_paper_ids_ == no_response"
   ]
  },
  {
   "cell_type": "code",
   "execution_count": null,
   "metadata": {},
   "outputs": [],
   "source": [
    "collected_papers.loc[collected_papers['Paper ID'].isin(no_response)]"
   ]
  },
  {
   "cell_type": "code",
   "execution_count": null,
   "metadata": {},
   "outputs": [],
   "source": [
    "# Find original author using thr original collected sheet\n",
    "\n",
    "import pandas as pd\n",
    "\n",
    "temp = pd.read_csv(\"../data/papers citing openml review - Sheet1.csv\")\n",
    "result_df = pd.concat([temp[temp[\"Paper ID\"] == id] for id in no_response], ignore_index=True)\n",
    "result_df.iloc[:, :10]"
   ]
  },
  {
   "cell_type": "markdown",
   "metadata": {},
   "source": [
    "2. Duplicate entries"
   ]
  },
  {
   "cell_type": "code",
   "execution_count": null,
   "metadata": {},
   "outputs": [],
   "source": [
    "path1 = '../data/collected_papers.csv' # Original list of collected papers\n",
    "path2 = \"../data/Final_survey_data.csv\" # Survey Results\n",
    "\n",
    "df = pd.read_csv(path2)\n",
    "\n",
    "print(\"Total no of reviews recieved: \", len(df))\n",
    "# df.head()"
   ]
  },
  {
   "cell_type": "code",
   "execution_count": null,
   "metadata": {},
   "outputs": [],
   "source": [
    "Total_papers = pd.read_csv(path1) # Original list of scraped paper\n",
    "print(\"Total scraped papers: \", len(Total_papers))"
   ]
  },
  {
   "cell_type": "code",
   "execution_count": null,
   "metadata": {},
   "outputs": [],
   "source": [
    "sheet1 = Total_papers[[\"Paper ID\", \"openml-suites-2021\", \"openml-python-2021\", \"openml-2014\", \"openml-r-2017\"]]\n",
    "sheet1.rename(columns={\"Paper ID\": \"Paper ID (from shared sheet)\"}, inplace=True)\n",
    "df = df.merge(sheet1, on=\"Paper ID (from shared sheet)\", how=\"left\")\n",
    "len(df)"
   ]
  },
  {
   "cell_type": "code",
   "execution_count": null,
   "metadata": {},
   "outputs": [],
   "source": [
    "duplicate_rows = df[df.duplicated(subset=[\"Paper ID (from shared sheet)\"], keep=False)]\n",
    "\n",
    "print(len(duplicate_rows))\n",
    "# duplicate_rows.sort_values(by=\"Paper ID (from shared sheet)\")\n"
   ]
  },
  {
   "cell_type": "code",
   "execution_count": null,
   "metadata": {},
   "outputs": [],
   "source": [
    "# Append reviewer name in dublicate_df\n",
    "\n",
    "duplicate_rows = duplicate_rows.merge(\n",
    "    temp[[\"Paper ID\", \"Reviewer\"]],\n",
    "    left_on=\"Paper ID (from shared sheet)\",\n",
    "    right_on=\"Paper ID\",\n",
    "    how=\"left\"\n",
    ").drop(columns=[\"Paper ID\"])  # optional: drop extra 'Paper ID' after merge\n",
    "\n",
    "\n",
    "duplicate_rows.sort_values(by=\"Paper ID (from shared sheet)\")"
   ]
  },
  {
   "cell_type": "code",
   "execution_count": null,
   "metadata": {},
   "outputs": [],
   "source": [
    "# duplicate_rows.sort_values(by=\"Paper ID (from shared sheet)\").to_csv(\"duplicate_rows.csv\", index=False)"
   ]
  },
  {
   "cell_type": "markdown",
   "metadata": {},
   "source": [
    "3. Wrong Paper Year"
   ]
  },
  {
   "cell_type": "code",
   "execution_count": null,
   "metadata": {},
   "outputs": [],
   "source": [
    "# len(df[\"Paper Year\"] >= 2014)\n",
    "df_wrong_year = df[(df[\"Paper Year\"] > 2025) | (df[\"Paper Year\"] < 2014)]\n",
    "len(df_wrong_year)"
   ]
  },
  {
   "cell_type": "code",
   "execution_count": null,
   "metadata": {},
   "outputs": [],
   "source": [
    "df_wrong_year = df[(df[\"Paper Year\"] > 2025) | (df[\"Paper Year\"] < 2014)]\n",
    "df_wrong_year"
   ]
  },
  {
   "cell_type": "markdown",
   "metadata": {},
   "source": [
    "4. Mistmatched ID and title"
   ]
  },
  {
   "cell_type": "code",
   "execution_count": null,
   "metadata": {},
   "outputs": [],
   "source": [
    "# Mismatched paper ID and title - 901, 240, 881, 1467, 1472, 108 - to be removed\n",
    "mismatch_ids = [901, 240, 881, 1467, 1472, 108] #contact authors\n",
    "\n",
    "mismatch_df = df[df[\"Paper ID (from shared sheet)\"].isin(mismatch_ids)]"
   ]
  },
  {
   "cell_type": "code",
   "execution_count": null,
   "metadata": {},
   "outputs": [],
   "source": [
    "# Append reviewer name in mismatch_df\n",
    "\n",
    "mismatch_df = mismatch_df.merge(\n",
    "    temp[[\"Paper ID\", \"Reviewer\"]],\n",
    "    left_on=\"Paper ID (from shared sheet)\",\n",
    "    right_on=\"Paper ID\",\n",
    "    how=\"left\"\n",
    ").drop(columns=[\"Paper ID\"])  # optional: drop extra 'Paper ID' after merge\n",
    "\n",
    "\n",
    "mismatch_df.sort_values(by=\"Paper ID (from shared sheet)\")"
   ]
  },
  {
   "cell_type": "code",
   "execution_count": null,
   "metadata": {},
   "outputs": [],
   "source": [
    "mismatch_df.sort_values(by=\"Paper ID (from shared sheet)\").to_csv(\"mismatch_df.csv\", index=False)"
   ]
  },
  {
   "cell_type": "markdown",
   "metadata": {},
   "source": [
    "595 - garbage entry\n"
   ]
  }
 ],
 "metadata": {
  "kernelspec": {
   "display_name": "venv",
   "language": "python",
   "name": "python3"
  },
  "language_info": {
   "codemirror_mode": {
    "name": "ipython",
    "version": 3
   },
   "file_extension": ".py",
   "mimetype": "text/x-python",
   "name": "python",
   "nbconvert_exporter": "python",
   "pygments_lexer": "ipython3",
   "version": "3.12.0"
  }
 },
 "nbformat": 4,
 "nbformat_minor": 2
}
